{
 "cells": [
  {
   "cell_type": "markdown",
   "metadata": {},
   "source": [
    "# LAB | Intro to Machine Learning"
   ]
  },
  {
   "cell_type": "markdown",
   "metadata": {},
   "source": [
    "**Load the data**\n",
    "\n",
    "In this challenge, we will be working with Spaceship Titanic data. The data can be found here:\n",
    "\n",
    "https://raw.githubusercontent.com/data-bootcamp-v4/data/main/spaceship_titanic.csv\n",
    "\n",
    "Metadata\n",
    "\n",
    "https://github.com/data-bootcamp-v4/data/blob/main/spaceship_titanic.md"
   ]
  },
  {
   "cell_type": "code",
   "execution_count": 2,
   "metadata": {},
   "outputs": [
    {
     "name": "stdout",
     "output_type": "stream",
     "text": [
      "Collecting scikit-learn\n",
      "  Downloading scikit_learn-1.5.1-cp311-cp311-win_amd64.whl.metadata (12 kB)\n",
      "Requirement already satisfied: numpy>=1.19.5 in c:\\users\\shubham singh\\appdata\\local\\programs\\python\\python311\\lib\\site-packages (from scikit-learn) (1.25.2)\n",
      "Requirement already satisfied: scipy>=1.6.0 in c:\\users\\shubham singh\\appdata\\local\\programs\\python\\python311\\lib\\site-packages (from scikit-learn) (1.14.0)\n",
      "Collecting joblib>=1.2.0 (from scikit-learn)\n",
      "  Downloading joblib-1.4.2-py3-none-any.whl.metadata (5.4 kB)\n",
      "Collecting threadpoolctl>=3.1.0 (from scikit-learn)\n",
      "  Downloading threadpoolctl-3.5.0-py3-none-any.whl.metadata (13 kB)\n",
      "Downloading scikit_learn-1.5.1-cp311-cp311-win_amd64.whl (11.0 MB)\n",
      "   ---------------------------------------- 0.0/11.0 MB ? eta -:--:--\n",
      "   ---------------------------------------- 0.0/11.0 MB 660.6 kB/s eta 0:00:17\n",
      "   ---------------------------------------- 0.0/11.0 MB 653.6 kB/s eta 0:00:17\n",
      "   ---------------------------------------- 0.1/11.0 MB 939.4 kB/s eta 0:00:12\n",
      "   ---------------------------------------- 0.1/11.0 MB 939.4 kB/s eta 0:00:12\n",
      "    --------------------------------------- 0.2/11.0 MB 958.4 kB/s eta 0:00:12\n",
      "    --------------------------------------- 0.2/11.0 MB 958.4 kB/s eta 0:00:12\n",
      "   - -------------------------------------- 0.3/11.0 MB 896.4 kB/s eta 0:00:12\n",
      "   - -------------------------------------- 0.3/11.0 MB 941.3 kB/s eta 0:00:12\n",
      "   - -------------------------------------- 0.4/11.0 MB 998.3 kB/s eta 0:00:11\n",
      "   - -------------------------------------- 0.5/11.0 MB 972.0 kB/s eta 0:00:11\n",
      "   - -------------------------------------- 0.5/11.0 MB 1.0 MB/s eta 0:00:11\n",
      "   -- ------------------------------------- 0.6/11.0 MB 1.1 MB/s eta 0:00:10\n",
      "   -- ------------------------------------- 0.6/11.0 MB 1.1 MB/s eta 0:00:10\n",
      "   -- ------------------------------------- 0.7/11.0 MB 1.2 MB/s eta 0:00:09\n",
      "   -- ------------------------------------- 0.8/11.0 MB 1.1 MB/s eta 0:00:09\n",
      "   -- ------------------------------------- 0.8/11.0 MB 1.1 MB/s eta 0:00:09\n",
      "   --- ------------------------------------ 0.9/11.0 MB 1.2 MB/s eta 0:00:09\n",
      "   --- ------------------------------------ 0.9/11.0 MB 1.2 MB/s eta 0:00:09\n",
      "   --- ------------------------------------ 1.0/11.0 MB 1.1 MB/s eta 0:00:09\n",
      "   --- ------------------------------------ 1.1/11.0 MB 1.2 MB/s eta 0:00:09\n",
      "   ---- ----------------------------------- 1.2/11.0 MB 1.2 MB/s eta 0:00:09\n",
      "   ---- ----------------------------------- 1.2/11.0 MB 1.2 MB/s eta 0:00:08\n",
      "   ---- ----------------------------------- 1.3/11.0 MB 1.3 MB/s eta 0:00:08\n",
      "   ----- ---------------------------------- 1.4/11.0 MB 1.3 MB/s eta 0:00:08\n",
      "   ----- ---------------------------------- 1.4/11.0 MB 1.3 MB/s eta 0:00:08\n",
      "   ----- ---------------------------------- 1.5/11.0 MB 1.2 MB/s eta 0:00:08\n",
      "   ----- ---------------------------------- 1.6/11.0 MB 1.3 MB/s eta 0:00:08\n",
      "   ----- ---------------------------------- 1.6/11.0 MB 1.3 MB/s eta 0:00:08\n",
      "   ------ --------------------------------- 1.8/11.0 MB 1.3 MB/s eta 0:00:07\n",
      "   ------ --------------------------------- 1.8/11.0 MB 1.3 MB/s eta 0:00:07\n",
      "   ------ --------------------------------- 1.8/11.0 MB 1.3 MB/s eta 0:00:07\n",
      "   ------ --------------------------------- 1.9/11.0 MB 1.3 MB/s eta 0:00:08\n",
      "   ------- -------------------------------- 2.0/11.0 MB 1.3 MB/s eta 0:00:07\n",
      "   ------- -------------------------------- 2.0/11.0 MB 1.3 MB/s eta 0:00:07\n",
      "   ------- -------------------------------- 2.0/11.0 MB 1.3 MB/s eta 0:00:08\n",
      "   ------- -------------------------------- 2.1/11.0 MB 1.3 MB/s eta 0:00:07\n",
      "   ------- -------------------------------- 2.2/11.0 MB 1.3 MB/s eta 0:00:07\n",
      "   ------- -------------------------------- 2.2/11.0 MB 1.3 MB/s eta 0:00:07\n",
      "   -------- ------------------------------- 2.2/11.0 MB 1.3 MB/s eta 0:00:07\n",
      "   -------- ------------------------------- 2.3/11.0 MB 1.2 MB/s eta 0:00:08\n",
      "   -------- ------------------------------- 2.4/11.0 MB 1.3 MB/s eta 0:00:07\n",
      "   --------- ------------------------------ 2.5/11.0 MB 1.3 MB/s eta 0:00:07\n",
      "   --------- ------------------------------ 2.5/11.0 MB 1.3 MB/s eta 0:00:07\n",
      "   --------- ------------------------------ 2.5/11.0 MB 1.3 MB/s eta 0:00:07\n",
      "   --------- ------------------------------ 2.7/11.0 MB 1.3 MB/s eta 0:00:07\n",
      "   --------- ------------------------------ 2.7/11.0 MB 1.3 MB/s eta 0:00:07\n",
      "   ---------- ----------------------------- 2.8/11.0 MB 1.3 MB/s eta 0:00:07\n",
      "   ---------- ----------------------------- 2.9/11.0 MB 1.3 MB/s eta 0:00:07\n",
      "   ---------- ----------------------------- 3.0/11.0 MB 1.3 MB/s eta 0:00:07\n",
      "   ----------- ---------------------------- 3.2/11.0 MB 1.4 MB/s eta 0:00:06\n",
      "   ----------- ---------------------------- 3.2/11.0 MB 1.4 MB/s eta 0:00:06\n",
      "   ------------ --------------------------- 3.5/11.0 MB 1.4 MB/s eta 0:00:06\n",
      "   ------------ --------------------------- 3.5/11.0 MB 1.4 MB/s eta 0:00:06\n",
      "   ------------- -------------------------- 3.6/11.0 MB 1.4 MB/s eta 0:00:06\n",
      "   ------------- -------------------------- 3.8/11.0 MB 1.5 MB/s eta 0:00:05\n",
      "   ------------- -------------------------- 3.8/11.0 MB 1.5 MB/s eta 0:00:05\n",
      "   -------------- ------------------------- 4.1/11.0 MB 1.5 MB/s eta 0:00:05\n",
      "   -------------- ------------------------- 4.1/11.0 MB 1.5 MB/s eta 0:00:05\n",
      "   --------------- ------------------------ 4.3/11.0 MB 1.6 MB/s eta 0:00:05\n",
      "   --------------- ------------------------ 4.4/11.0 MB 1.6 MB/s eta 0:00:05\n",
      "   ---------------- ----------------------- 4.6/11.0 MB 1.6 MB/s eta 0:00:04\n",
      "   ----------------- ---------------------- 4.7/11.0 MB 1.6 MB/s eta 0:00:04\n",
      "   ----------------- ---------------------- 4.8/11.0 MB 1.7 MB/s eta 0:00:04\n",
      "   ------------------ --------------------- 5.0/11.0 MB 1.7 MB/s eta 0:00:04\n",
      "   ------------------ --------------------- 5.0/11.0 MB 1.7 MB/s eta 0:00:04\n",
      "   ------------------- -------------------- 5.2/11.0 MB 1.7 MB/s eta 0:00:04\n",
      "   ------------------- -------------------- 5.3/11.0 MB 1.7 MB/s eta 0:00:04\n",
      "   ------------------- -------------------- 5.5/11.0 MB 1.7 MB/s eta 0:00:04\n",
      "   -------------------- ------------------- 5.5/11.0 MB 1.7 MB/s eta 0:00:04\n",
      "   -------------------- ------------------- 5.7/11.0 MB 1.8 MB/s eta 0:00:03\n",
      "   --------------------- ------------------ 5.8/11.0 MB 1.8 MB/s eta 0:00:03\n",
      "   --------------------- ------------------ 5.8/11.0 MB 1.8 MB/s eta 0:00:03\n",
      "   ---------------------- ----------------- 6.3/11.0 MB 1.8 MB/s eta 0:00:03\n",
      "   ---------------------- ----------------- 6.3/11.0 MB 1.8 MB/s eta 0:00:03\n",
      "   ---------------------- ----------------- 6.3/11.0 MB 1.8 MB/s eta 0:00:03\n",
      "   ----------------------- ---------------- 6.3/11.0 MB 1.8 MB/s eta 0:00:03\n",
      "   ----------------------- ---------------- 6.6/11.0 MB 1.8 MB/s eta 0:00:03\n",
      "   ------------------------ --------------- 6.6/11.0 MB 1.8 MB/s eta 0:00:03\n",
      "   ------------------------ --------------- 6.7/11.0 MB 1.8 MB/s eta 0:00:03\n",
      "   ------------------------- -------------- 7.0/11.0 MB 1.9 MB/s eta 0:00:03\n",
      "   ------------------------- -------------- 7.0/11.0 MB 1.9 MB/s eta 0:00:03\n",
      "   -------------------------- ------------- 7.1/11.0 MB 1.9 MB/s eta 0:00:03\n",
      "   -------------------------- ------------- 7.3/11.0 MB 1.9 MB/s eta 0:00:02\n",
      "   -------------------------- ------------- 7.4/11.0 MB 1.9 MB/s eta 0:00:02\n",
      "   --------------------------- ------------ 7.5/11.0 MB 1.9 MB/s eta 0:00:02\n",
      "   --------------------------- ------------ 7.5/11.0 MB 1.9 MB/s eta 0:00:02\n",
      "   --------------------------- ------------ 7.5/11.0 MB 1.9 MB/s eta 0:00:02\n",
      "   --------------------------- ------------ 7.5/11.0 MB 1.9 MB/s eta 0:00:02\n",
      "   --------------------------- ------------ 7.7/11.0 MB 1.9 MB/s eta 0:00:02\n",
      "   ---------------------------- ----------- 7.8/11.0 MB 1.9 MB/s eta 0:00:02\n",
      "   ---------------------------- ----------- 7.9/11.0 MB 1.9 MB/s eta 0:00:02\n",
      "   ---------------------------- ----------- 7.9/11.0 MB 1.9 MB/s eta 0:00:02\n",
      "   ---------------------------- ----------- 7.9/11.0 MB 1.9 MB/s eta 0:00:02\n",
      "   ----------------------------- ---------- 8.1/11.0 MB 1.9 MB/s eta 0:00:02\n",
      "   ----------------------------- ---------- 8.2/11.0 MB 1.9 MB/s eta 0:00:02\n",
      "   ------------------------------ --------- 8.3/11.0 MB 1.9 MB/s eta 0:00:02\n",
      "   ------------------------------ --------- 8.4/11.0 MB 1.9 MB/s eta 0:00:02\n",
      "   ------------------------------- -------- 8.5/11.0 MB 1.9 MB/s eta 0:00:02\n",
      "   ------------------------------- -------- 8.8/11.0 MB 1.9 MB/s eta 0:00:02\n",
      "   -------------------------------- ------- 8.8/11.0 MB 1.9 MB/s eta 0:00:02\n",
      "   --------------------------------- ------ 9.1/11.0 MB 1.9 MB/s eta 0:00:01\n",
      "   --------------------------------- ------ 9.2/11.0 MB 1.9 MB/s eta 0:00:01\n",
      "   ---------------------------------- ----- 9.4/11.0 MB 2.0 MB/s eta 0:00:01\n",
      "   ---------------------------------- ----- 9.5/11.0 MB 2.0 MB/s eta 0:00:01\n",
      "   ---------------------------------- ----- 9.6/11.0 MB 2.0 MB/s eta 0:00:01\n",
      "   ----------------------------------- ---- 9.6/11.0 MB 2.0 MB/s eta 0:00:01\n",
      "   ----------------------------------- ---- 9.7/11.0 MB 2.0 MB/s eta 0:00:01\n",
      "   ----------------------------------- ---- 9.7/11.0 MB 2.0 MB/s eta 0:00:01\n",
      "   ----------------------------------- ---- 9.7/11.0 MB 1.9 MB/s eta 0:00:01\n",
      "   ----------------------------------- ---- 9.7/11.0 MB 1.9 MB/s eta 0:00:01\n",
      "   ----------------------------------- ---- 9.7/11.0 MB 1.9 MB/s eta 0:00:01\n",
      "   ----------------------------------- ---- 9.9/11.0 MB 1.9 MB/s eta 0:00:01\n",
      "   ------------------------------------ --- 10.0/11.0 MB 1.9 MB/s eta 0:00:01\n",
      "   ------------------------------------ --- 10.1/11.0 MB 1.9 MB/s eta 0:00:01\n",
      "   ------------------------------------ --- 10.1/11.0 MB 1.9 MB/s eta 0:00:01\n",
      "   ------------------------------------- -- 10.3/11.0 MB 1.9 MB/s eta 0:00:01\n",
      "   -------------------------------------- - 10.5/11.0 MB 2.0 MB/s eta 0:00:01\n",
      "   -------------------------------------- - 10.5/11.0 MB 2.0 MB/s eta 0:00:01\n",
      "   -------------------------------------- - 10.7/11.0 MB 2.0 MB/s eta 0:00:01\n",
      "   ---------------------------------------  10.8/11.0 MB 2.0 MB/s eta 0:00:01\n",
      "   ---------------------------------------  11.0/11.0 MB 2.1 MB/s eta 0:00:01\n",
      "   ---------------------------------------- 11.0/11.0 MB 2.1 MB/s eta 0:00:00\n",
      "Downloading joblib-1.4.2-py3-none-any.whl (301 kB)\n",
      "   ---------------------------------------- 0.0/301.8 kB ? eta -:--:--\n",
      "   ---------------------------------------  297.0/301.8 kB 9.2 MB/s eta 0:00:01\n",
      "   ---------------------------------------- 301.8/301.8 kB 6.2 MB/s eta 0:00:00\n",
      "Downloading threadpoolctl-3.5.0-py3-none-any.whl (18 kB)\n",
      "Installing collected packages: threadpoolctl, joblib, scikit-learn\n",
      "Successfully installed joblib-1.4.2 scikit-learn-1.5.1 threadpoolctl-3.5.0\n",
      "Note: you may need to restart the kernel to use updated packages.\n"
     ]
    },
    {
     "name": "stderr",
     "output_type": "stream",
     "text": [
      "\n",
      "[notice] A new release of pip is available: 24.0 -> 24.2\n",
      "[notice] To update, run: python.exe -m pip install --upgrade pip\n"
     ]
    }
   ],
   "source": [
    "#import libraries\n",
    "import pandas as pd\n",
    "import numpy as np\n",
    "%pip install scikit-learn\n",
    "from sklearn.model_selection import train_test_split"
   ]
  },
  {
   "cell_type": "code",
   "execution_count": 3,
   "metadata": {},
   "outputs": [
    {
     "data": {
      "text/html": [
       "<div>\n",
       "<style scoped>\n",
       "    .dataframe tbody tr th:only-of-type {\n",
       "        vertical-align: middle;\n",
       "    }\n",
       "\n",
       "    .dataframe tbody tr th {\n",
       "        vertical-align: top;\n",
       "    }\n",
       "\n",
       "    .dataframe thead th {\n",
       "        text-align: right;\n",
       "    }\n",
       "</style>\n",
       "<table border=\"1\" class=\"dataframe\">\n",
       "  <thead>\n",
       "    <tr style=\"text-align: right;\">\n",
       "      <th></th>\n",
       "      <th>PassengerId</th>\n",
       "      <th>HomePlanet</th>\n",
       "      <th>CryoSleep</th>\n",
       "      <th>Cabin</th>\n",
       "      <th>Destination</th>\n",
       "      <th>Age</th>\n",
       "      <th>VIP</th>\n",
       "      <th>RoomService</th>\n",
       "      <th>FoodCourt</th>\n",
       "      <th>ShoppingMall</th>\n",
       "      <th>Spa</th>\n",
       "      <th>VRDeck</th>\n",
       "      <th>Name</th>\n",
       "      <th>Transported</th>\n",
       "    </tr>\n",
       "  </thead>\n",
       "  <tbody>\n",
       "    <tr>\n",
       "      <th>0</th>\n",
       "      <td>0001_01</td>\n",
       "      <td>Europa</td>\n",
       "      <td>False</td>\n",
       "      <td>B/0/P</td>\n",
       "      <td>TRAPPIST-1e</td>\n",
       "      <td>39.0</td>\n",
       "      <td>False</td>\n",
       "      <td>0.0</td>\n",
       "      <td>0.0</td>\n",
       "      <td>0.0</td>\n",
       "      <td>0.0</td>\n",
       "      <td>0.0</td>\n",
       "      <td>Maham Ofracculy</td>\n",
       "      <td>False</td>\n",
       "    </tr>\n",
       "    <tr>\n",
       "      <th>1</th>\n",
       "      <td>0002_01</td>\n",
       "      <td>Earth</td>\n",
       "      <td>False</td>\n",
       "      <td>F/0/S</td>\n",
       "      <td>TRAPPIST-1e</td>\n",
       "      <td>24.0</td>\n",
       "      <td>False</td>\n",
       "      <td>109.0</td>\n",
       "      <td>9.0</td>\n",
       "      <td>25.0</td>\n",
       "      <td>549.0</td>\n",
       "      <td>44.0</td>\n",
       "      <td>Juanna Vines</td>\n",
       "      <td>True</td>\n",
       "    </tr>\n",
       "    <tr>\n",
       "      <th>2</th>\n",
       "      <td>0003_01</td>\n",
       "      <td>Europa</td>\n",
       "      <td>False</td>\n",
       "      <td>A/0/S</td>\n",
       "      <td>TRAPPIST-1e</td>\n",
       "      <td>58.0</td>\n",
       "      <td>True</td>\n",
       "      <td>43.0</td>\n",
       "      <td>3576.0</td>\n",
       "      <td>0.0</td>\n",
       "      <td>6715.0</td>\n",
       "      <td>49.0</td>\n",
       "      <td>Altark Susent</td>\n",
       "      <td>False</td>\n",
       "    </tr>\n",
       "    <tr>\n",
       "      <th>3</th>\n",
       "      <td>0003_02</td>\n",
       "      <td>Europa</td>\n",
       "      <td>False</td>\n",
       "      <td>A/0/S</td>\n",
       "      <td>TRAPPIST-1e</td>\n",
       "      <td>33.0</td>\n",
       "      <td>False</td>\n",
       "      <td>0.0</td>\n",
       "      <td>1283.0</td>\n",
       "      <td>371.0</td>\n",
       "      <td>3329.0</td>\n",
       "      <td>193.0</td>\n",
       "      <td>Solam Susent</td>\n",
       "      <td>False</td>\n",
       "    </tr>\n",
       "    <tr>\n",
       "      <th>4</th>\n",
       "      <td>0004_01</td>\n",
       "      <td>Earth</td>\n",
       "      <td>False</td>\n",
       "      <td>F/1/S</td>\n",
       "      <td>TRAPPIST-1e</td>\n",
       "      <td>16.0</td>\n",
       "      <td>False</td>\n",
       "      <td>303.0</td>\n",
       "      <td>70.0</td>\n",
       "      <td>151.0</td>\n",
       "      <td>565.0</td>\n",
       "      <td>2.0</td>\n",
       "      <td>Willy Santantines</td>\n",
       "      <td>True</td>\n",
       "    </tr>\n",
       "  </tbody>\n",
       "</table>\n",
       "</div>"
      ],
      "text/plain": [
       "  PassengerId HomePlanet CryoSleep  Cabin  Destination   Age    VIP  \\\n",
       "0     0001_01     Europa     False  B/0/P  TRAPPIST-1e  39.0  False   \n",
       "1     0002_01      Earth     False  F/0/S  TRAPPIST-1e  24.0  False   \n",
       "2     0003_01     Europa     False  A/0/S  TRAPPIST-1e  58.0   True   \n",
       "3     0003_02     Europa     False  A/0/S  TRAPPIST-1e  33.0  False   \n",
       "4     0004_01      Earth     False  F/1/S  TRAPPIST-1e  16.0  False   \n",
       "\n",
       "   RoomService  FoodCourt  ShoppingMall     Spa  VRDeck               Name  \\\n",
       "0          0.0        0.0           0.0     0.0     0.0    Maham Ofracculy   \n",
       "1        109.0        9.0          25.0   549.0    44.0       Juanna Vines   \n",
       "2         43.0     3576.0           0.0  6715.0    49.0      Altark Susent   \n",
       "3          0.0     1283.0         371.0  3329.0   193.0       Solam Susent   \n",
       "4        303.0       70.0         151.0   565.0     2.0  Willy Santantines   \n",
       "\n",
       "   Transported  \n",
       "0        False  \n",
       "1         True  \n",
       "2        False  \n",
       "3        False  \n",
       "4         True  "
      ]
     },
     "execution_count": 3,
     "metadata": {},
     "output_type": "execute_result"
    }
   ],
   "source": [
    "spaceship = pd.read_csv(\"https://raw.githubusercontent.com/data-bootcamp-v4/data/main/spaceship_titanic.csv\")\n",
    "spaceship.head()"
   ]
  },
  {
   "cell_type": "markdown",
   "metadata": {},
   "source": [
    "**Check the shape of your data**"
   ]
  },
  {
   "cell_type": "code",
   "execution_count": 4,
   "metadata": {},
   "outputs": [
    {
     "data": {
      "text/plain": [
       "(8693, 14)"
      ]
     },
     "execution_count": 4,
     "metadata": {},
     "output_type": "execute_result"
    }
   ],
   "source": [
    "#your code here\n",
    "spaceship.shape\n"
   ]
  },
  {
   "cell_type": "markdown",
   "metadata": {},
   "source": [
    "**Check for data types**"
   ]
  },
  {
   "cell_type": "code",
   "execution_count": 5,
   "metadata": {},
   "outputs": [
    {
     "name": "stdout",
     "output_type": "stream",
     "text": [
      "<class 'pandas.core.frame.DataFrame'>\n",
      "RangeIndex: 8693 entries, 0 to 8692\n",
      "Data columns (total 14 columns):\n",
      " #   Column        Non-Null Count  Dtype  \n",
      "---  ------        --------------  -----  \n",
      " 0   PassengerId   8693 non-null   object \n",
      " 1   HomePlanet    8492 non-null   object \n",
      " 2   CryoSleep     8476 non-null   object \n",
      " 3   Cabin         8494 non-null   object \n",
      " 4   Destination   8511 non-null   object \n",
      " 5   Age           8514 non-null   float64\n",
      " 6   VIP           8490 non-null   object \n",
      " 7   RoomService   8512 non-null   float64\n",
      " 8   FoodCourt     8510 non-null   float64\n",
      " 9   ShoppingMall  8485 non-null   float64\n",
      " 10  Spa           8510 non-null   float64\n",
      " 11  VRDeck        8505 non-null   float64\n",
      " 12  Name          8493 non-null   object \n",
      " 13  Transported   8693 non-null   bool   \n",
      "dtypes: bool(1), float64(6), object(7)\n",
      "memory usage: 891.5+ KB\n"
     ]
    }
   ],
   "source": [
    "#your code here\n",
    "spaceship.info()"
   ]
  },
  {
   "cell_type": "markdown",
   "metadata": {},
   "source": [
    "**Check for missing values**"
   ]
  },
  {
   "cell_type": "code",
   "execution_count": 6,
   "metadata": {},
   "outputs": [
    {
     "data": {
      "text/plain": [
       "PassengerId       0\n",
       "HomePlanet      201\n",
       "CryoSleep       217\n",
       "Cabin           199\n",
       "Destination     182\n",
       "Age             179\n",
       "VIP             203\n",
       "RoomService     181\n",
       "FoodCourt       183\n",
       "ShoppingMall    208\n",
       "Spa             183\n",
       "VRDeck          188\n",
       "Name            200\n",
       "Transported       0\n",
       "dtype: int64"
      ]
     },
     "execution_count": 6,
     "metadata": {},
     "output_type": "execute_result"
    }
   ],
   "source": [
    "# Check for missing values\n",
    "#your code here\n",
    "spaceship.isnull().sum()\n"
   ]
  },
  {
   "cell_type": "markdown",
   "metadata": {},
   "source": [
    "There are multiple strategies to handle missing data\n",
    "\n",
    "- Removing all rows or all columns containing missing data.\n",
    "- Filling all missing values with a value (mean in continouos or mode in categorical for example).\n",
    "- Filling all missing values with an algorithm.\n",
    "\n",
    "For this exercise, because we have such low amount of null values, we will drop rows containing any missing value. "
   ]
  },
  {
   "cell_type": "code",
   "execution_count": 7,
   "metadata": {},
   "outputs": [
    {
     "data": {
      "text/plain": [
       "PassengerId     0\n",
       "HomePlanet      0\n",
       "CryoSleep       0\n",
       "Cabin           0\n",
       "Destination     0\n",
       "Age             0\n",
       "VIP             0\n",
       "RoomService     0\n",
       "FoodCourt       0\n",
       "ShoppingMall    0\n",
       "Spa             0\n",
       "VRDeck          0\n",
       "Name            0\n",
       "Transported     0\n",
       "dtype: int64"
      ]
     },
     "execution_count": 7,
     "metadata": {},
     "output_type": "execute_result"
    }
   ],
   "source": [
    "# drop rows containing any missing value\n",
    "#your code here\n",
    "spaceship = spaceship.dropna()\n",
    "spaceship.isnull().sum()\n"
   ]
  },
  {
   "cell_type": "markdown",
   "metadata": {},
   "source": [
    "**KNN**"
   ]
  },
  {
   "cell_type": "markdown",
   "metadata": {},
   "source": [
    "K Nearest Neighbors is a distance based algorithm, and requeries all **input data to be numerical.**\n",
    "\n",
    "Let's only select numerical columns as our features."
   ]
  },
  {
   "cell_type": "code",
   "execution_count": 8,
   "metadata": {},
   "outputs": [
    {
     "data": {
      "text/html": [
       "<div>\n",
       "<style scoped>\n",
       "    .dataframe tbody tr th:only-of-type {\n",
       "        vertical-align: middle;\n",
       "    }\n",
       "\n",
       "    .dataframe tbody tr th {\n",
       "        vertical-align: top;\n",
       "    }\n",
       "\n",
       "    .dataframe thead th {\n",
       "        text-align: right;\n",
       "    }\n",
       "</style>\n",
       "<table border=\"1\" class=\"dataframe\">\n",
       "  <thead>\n",
       "    <tr style=\"text-align: right;\">\n",
       "      <th></th>\n",
       "      <th>Age</th>\n",
       "      <th>RoomService</th>\n",
       "      <th>FoodCourt</th>\n",
       "      <th>ShoppingMall</th>\n",
       "      <th>Spa</th>\n",
       "      <th>VRDeck</th>\n",
       "    </tr>\n",
       "  </thead>\n",
       "  <tbody>\n",
       "    <tr>\n",
       "      <th>0</th>\n",
       "      <td>39.0</td>\n",
       "      <td>0.0</td>\n",
       "      <td>0.0</td>\n",
       "      <td>0.0</td>\n",
       "      <td>0.0</td>\n",
       "      <td>0.0</td>\n",
       "    </tr>\n",
       "    <tr>\n",
       "      <th>1</th>\n",
       "      <td>24.0</td>\n",
       "      <td>109.0</td>\n",
       "      <td>9.0</td>\n",
       "      <td>25.0</td>\n",
       "      <td>549.0</td>\n",
       "      <td>44.0</td>\n",
       "    </tr>\n",
       "    <tr>\n",
       "      <th>2</th>\n",
       "      <td>58.0</td>\n",
       "      <td>43.0</td>\n",
       "      <td>3576.0</td>\n",
       "      <td>0.0</td>\n",
       "      <td>6715.0</td>\n",
       "      <td>49.0</td>\n",
       "    </tr>\n",
       "    <tr>\n",
       "      <th>3</th>\n",
       "      <td>33.0</td>\n",
       "      <td>0.0</td>\n",
       "      <td>1283.0</td>\n",
       "      <td>371.0</td>\n",
       "      <td>3329.0</td>\n",
       "      <td>193.0</td>\n",
       "    </tr>\n",
       "    <tr>\n",
       "      <th>4</th>\n",
       "      <td>16.0</td>\n",
       "      <td>303.0</td>\n",
       "      <td>70.0</td>\n",
       "      <td>151.0</td>\n",
       "      <td>565.0</td>\n",
       "      <td>2.0</td>\n",
       "    </tr>\n",
       "  </tbody>\n",
       "</table>\n",
       "</div>"
      ],
      "text/plain": [
       "    Age  RoomService  FoodCourt  ShoppingMall     Spa  VRDeck\n",
       "0  39.0          0.0        0.0           0.0     0.0     0.0\n",
       "1  24.0        109.0        9.0          25.0   549.0    44.0\n",
       "2  58.0         43.0     3576.0           0.0  6715.0    49.0\n",
       "3  33.0          0.0     1283.0         371.0  3329.0   193.0\n",
       "4  16.0        303.0       70.0         151.0   565.0     2.0"
      ]
     },
     "execution_count": 8,
     "metadata": {},
     "output_type": "execute_result"
    }
   ],
   "source": [
    "# K Nearest Neighbors is a distance based algorithm, and requeries all **input data to be numerical.**\n",
    "# select only numerical columns as our features\n",
    "#your code here\n",
    "X = spaceship.select_dtypes(include=[np.number])\n",
    "X.head()"
   ]
  },
  {
   "cell_type": "markdown",
   "metadata": {},
   "source": [
    "And also lets define our target."
   ]
  },
  {
   "cell_type": "code",
   "execution_count": 11,
   "metadata": {},
   "outputs": [
    {
     "data": {
      "text/plain": [
       "0    False\n",
       "1     True\n",
       "2    False\n",
       "3    False\n",
       "4     True\n",
       "Name: Transported, dtype: bool"
      ]
     },
     "execution_count": 11,
     "metadata": {},
     "output_type": "execute_result"
    }
   ],
   "source": [
    "# And also lets define our target.\n",
    "#your code here\n",
    "y = spaceship['Transported']\n",
    "y.head()\n"
   ]
  },
  {
   "cell_type": "markdown",
   "metadata": {},
   "source": [
    "**Train Test Split**"
   ]
  },
  {
   "cell_type": "markdown",
   "metadata": {},
   "source": [
    "Now that we have split the data into **features** and **target** variables and imported the **train_test_split** function, split X and y into X_train, X_test, y_train, and y_test. 80% of the data should be in the training set and 20% in the test set."
   ]
  },
  {
   "cell_type": "code",
   "execution_count": 13,
   "metadata": {},
   "outputs": [
    {
     "data": {
      "text/plain": [
       "array([[464, 189],\n",
       "       [134, 535]], dtype=int64)"
      ]
     },
     "execution_count": 13,
     "metadata": {},
     "output_type": "execute_result"
    }
   ],
   "source": [
    "# Now that we have split the data into **features** and **target** variables and imported the **train_test_split** function, split X and y into X_train, X_test, y_train, and y_test. 80% of the data should be in the training set and 20% in the test set.\n",
    "#your code here\n",
    "X_train, X_test, y_train, y_test = train_test_split(X, y, test_size=0.2, random_state=42)\n",
    "X_train.shape, X_test.shape, y_train.shape, y_test.shape\n",
    "\n",
    "# Import the KNeighborsClassifier from sklearn\n",
    "#your code here\n",
    "from sklearn.neighbors import KNeighborsClassifier\n",
    "\n",
    "# Create a KNeighborsClassifier object, and fit it to the training data.\n",
    "#your code here\n",
    "knn = KNeighborsClassifier(n_neighbors=3)\n",
    "knn.fit(X_train, y_train)\n",
    "\n",
    "# Use the KNeighborsClassifier object to predict the labels of the test data.\n",
    "#your code here\n",
    "y_pred = knn.predict(X_test)\n",
    "\n",
    "# Import the accuracy_score function from sklearn\n",
    "#your code here\n",
    "from sklearn.metrics import accuracy_score\n",
    "\n",
    "# Calculate the accuracy of the model.\n",
    "#your code here\n",
    "accuracy_score(y_test, y_pred)\n",
    "\n",
    "# Import the confusion_matrix function from sklearn\n",
    "#your code here\n",
    "from sklearn.metrics import confusion_matrix\n",
    "\n",
    "# Calculate the confusion matrix\n",
    "#your code here\n",
    "confusion_matrix(y_test, y_pred)\n",
    "\n"
   ]
  },
  {
   "cell_type": "markdown",
   "metadata": {},
   "source": [
    "**Model Selection**"
   ]
  },
  {
   "cell_type": "markdown",
   "metadata": {},
   "source": [
    "In this exercise we will be using **KNN** as our predictive model.\n",
    "\n",
    "You need to choose between **Classificator** or **Regressor**. Take into consideration target variable to decide."
   ]
  },
  {
   "cell_type": "markdown",
   "metadata": {},
   "source": [
    "Initialize a KNN instance without setting any hyperparameter."
   ]
  },
  {
   "cell_type": "code",
   "execution_count": 14,
   "metadata": {},
   "outputs": [
    {
     "data": {
      "text/plain": [
       "0.7715582450832073"
      ]
     },
     "execution_count": 14,
     "metadata": {},
     "output_type": "execute_result"
    }
   ],
   "source": [
    "# In this exercise we will be using **KNN** as our predictive model.\n",
    "# You need to choose between **Classificator** or **Regressor**. Take into consideration target variable to decide.\n",
    "#Initialize a KNN instance without setting any hyperparameter.\n",
    "\n",
    "#your code here\n",
    "knn = KNeighborsClassifier()\n",
    "\n",
    "# Fit the model to the training data.\n",
    "#your code here\n",
    "knn.fit(X_train, y_train)\n",
    "\n",
    "# Use the KNeighborsClassifier object to predict the labels of the test data.\n",
    "#your code here\n",
    "y_pred = knn.predict(X_test)\n",
    "\n",
    "# Calculate the accuracy of the model.\n",
    "#your code here\n",
    "accuracy_score(y_test, y_pred)\n",
    "\n"
   ]
  },
  {
   "cell_type": "markdown",
   "metadata": {},
   "source": [
    "Fit the model to your data."
   ]
  },
  {
   "cell_type": "code",
   "execution_count": 16,
   "metadata": {},
   "outputs": [
    {
     "data": {
      "text/plain": [
       "0.7715582450832073"
      ]
     },
     "execution_count": 16,
     "metadata": {},
     "output_type": "execute_result"
    }
   ],
   "source": [
    "# Fit the model to your data.\n",
    "#your code here\n",
    "knn.fit(X_train, y_train)\n",
    "\n",
    "# Use the KNeighborsClassifier object to predict the labels of the test data.\n",
    "#your code here\n",
    "y_pred = knn.predict(X_test)\n",
    "\n",
    "# Calculate the accuracy of the model.\n",
    "#your code here\n",
    "accuracy_score(y_test, y_pred)\n",
    "\n"
   ]
  },
  {
   "cell_type": "markdown",
   "metadata": {},
   "source": [
    "Evaluate your model."
   ]
  },
  {
   "cell_type": "code",
   "execution_count": 17,
   "metadata": {},
   "outputs": [
    {
     "name": "stdout",
     "output_type": "stream",
     "text": [
      "              precision    recall  f1-score   support\n",
      "\n",
      "       False       0.79      0.74      0.76       653\n",
      "        True       0.76      0.80      0.78       669\n",
      "\n",
      "    accuracy                           0.77      1322\n",
      "   macro avg       0.77      0.77      0.77      1322\n",
      "weighted avg       0.77      0.77      0.77      1322\n",
      "\n"
     ]
    },
    {
     "data": {
      "text/plain": [
       "{'n_neighbors': 44}"
      ]
     },
     "execution_count": 17,
     "metadata": {},
     "output_type": "execute_result"
    }
   ],
   "source": [
    "# evaluate the model\n",
    "#your code here\n",
    "confusion_matrix(y_test, y_pred)\n",
    "\n",
    "# Import the classification_report function from sklearn\n",
    "#your code here\n",
    "from sklearn.metrics import classification_report\n",
    "\n",
    "# Print the classification report\n",
    "#your code here\n",
    "print(classification_report(y_test, y_pred))\n",
    "\n",
    "# Import the GridSearchCV function from sklearn\n",
    "#your code here\n",
    "from sklearn.model_selection import GridSearchCV\n",
    "\n",
    "# Define the hyperparameter grid\n",
    "#your code here\n",
    "param_grid = {'n_neighbors': np.arange(1, 50)}\n",
    "\n",
    "# Create a GridSearchCV object\n",
    "#your code here\n",
    "knn_cv = GridSearchCV(knn, param_grid, cv=5)\n",
    "\n",
    "# Fit the GridSearchCV object to the data\n",
    "#your code here\n",
    "knn_cv.fit(X_train, y_train)\n",
    "\n",
    "# Print the best hyperparameters\n",
    "#your code here\n",
    "knn_cv.best_params_\n"
   ]
  },
  {
   "cell_type": "markdown",
   "metadata": {},
   "source": [
    "**Congratulations, you have just developed your first Machine Learning model!**"
   ]
  }
 ],
 "metadata": {
  "kernelspec": {
   "display_name": "Python 3",
   "language": "python",
   "name": "python3"
  },
  "language_info": {
   "codemirror_mode": {
    "name": "ipython",
    "version": 3
   },
   "file_extension": ".py",
   "mimetype": "text/x-python",
   "name": "python",
   "nbconvert_exporter": "python",
   "pygments_lexer": "ipython3",
   "version": "3.11.9"
  }
 },
 "nbformat": 4,
 "nbformat_minor": 2
}
